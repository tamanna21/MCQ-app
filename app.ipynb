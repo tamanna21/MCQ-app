{
 "cells": [
  {
   "cell_type": "code",
   "execution_count": 23,
   "id": "138c331f",
   "metadata": {},
   "outputs": [],
   "source": [
    "from Question import question"
   ]
  },
  {
   "cell_type": "code",
   "execution_count": 24,
   "id": "d37c3b54",
   "metadata": {},
   "outputs": [],
   "source": [
    "Question_prompt = [\n",
    "    \"How many days do we have in a week?\\n (a) six\\n (b) seven\\n (c) eight\\n\",\n",
    "    \"How many letters are there in the English alphabet?\\n (a) 24\\n (b) 26\\n (c) 28\\n\",\n",
    "    \"Which animal is called King of Jungle?\\n (a) lion\\n (b) tiger\\n (c) deer\\n\",\n",
    "    \"Which is the tallest animal on the earth?\\n (a) lion\\n (b) tiger\\n (c) giraffe\\n\",\n",
    "    \"How many hours are there in two days?\\n (a) 12\\n (b) 24\\n (c) 48\\n\",\n",
    "]"
   ]
  },
  {
   "cell_type": "code",
   "execution_count": 25,
   "id": "36982d8b",
   "metadata": {},
   "outputs": [],
   "source": [
    "questions = [question(Question_prompt[0], 'b'),\n",
    "             question(Question_prompt[1], 'b'),\n",
    "             question(Question_prompt[2], 'a'),\n",
    "             question(Question_prompt[3], 'c'),\n",
    "             question(Question_prompt[4], 'c'),\n",
    "]"
   ]
  },
  {
   "cell_type": "code",
   "execution_count": 26,
   "id": "bcb5d036",
   "metadata": {},
   "outputs": [],
   "source": [
    "def run_test(questions):\n",
    "    score = 0\n",
    "    for i in questions:\n",
    "        answer = input(i.prompt)\n",
    "        if answer == i.answer:\n",
    "            score += 1\n",
    "    print('You have got ', score, '/', len(questions), 'corrected')"
   ]
  },
  {
   "cell_type": "code",
   "execution_count": 28,
   "id": "40904288",
   "metadata": {},
   "outputs": [
    {
     "name": "stdout",
     "output_type": "stream",
     "text": [
      "How many days do we have in a week?\n",
      " (a) six\n",
      " (b) seven\n",
      " (c) eight\n",
      "b\n",
      "How many letters are there in the English alphabet?\n",
      " (a) 24\n",
      " (b) 26\n",
      " (c) 28\n",
      "b\n",
      "Which animal is called King of Jungle?\n",
      " (a) lion\n",
      " (b) tiger\n",
      " (c) deer\n",
      "a\n",
      "Which is the tallest animal on the earth?\n",
      " (a) lion\n",
      " (b) tiger\n",
      " (c) giraffe\n",
      "c\n",
      "How many hours are there in two days?\n",
      " (a) 12\n",
      " (b) 24\n",
      " (c) 48\n",
      "c\n",
      "You have got  5 / 5 corrected\n"
     ]
    }
   ],
   "source": [
    "run_test(questions)"
   ]
  },
  {
   "cell_type": "code",
   "execution_count": null,
   "id": "b7f4c13e",
   "metadata": {},
   "outputs": [],
   "source": []
  }
 ],
 "metadata": {
  "kernelspec": {
   "display_name": "Python 3 (ipykernel)",
   "language": "python",
   "name": "python3"
  },
  "language_info": {
   "codemirror_mode": {
    "name": "ipython",
    "version": 3
   },
   "file_extension": ".py",
   "mimetype": "text/x-python",
   "name": "python",
   "nbconvert_exporter": "python",
   "pygments_lexer": "ipython3",
   "version": "3.9.13"
  }
 },
 "nbformat": 4,
 "nbformat_minor": 5
}
